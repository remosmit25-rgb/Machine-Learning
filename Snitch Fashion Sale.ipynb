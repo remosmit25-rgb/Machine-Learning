{
 "cells": [
  {
   "cell_type": "code",
   "execution_count": 3,
   "id": "be5d7635-e52f-442e-bd78-0e3a51eb09df",
   "metadata": {},
   "outputs": [],
   "source": [
    "import pandas as pd\n",
    "import matplotlib.pyplot as plt\n",
    "import seaborn as sns\n",
    "from sklearn.model_selection import train_test_split\n",
    "from sklearn.preprocessing import StandardScaler\n",
    "from sklearn.linear_model import LogisticRegression\n",
    "from sklearn.metrics import accuracy_score, classification_report"
   ]
  },
  {
   "cell_type": "code",
   "execution_count": 5,
   "id": "931a1aad-8ccc-4d50-bcef-2d2d44894bc3",
   "metadata": {},
   "outputs": [],
   "source": [
    "df = pd.read_csv(\"Snitch_Fashion_Sales_Uncleaned.csv\")"
   ]
  },
  {
   "cell_type": "code",
   "execution_count": 7,
   "id": "2c2084aa-d603-4376-a57b-a8d8f8d2b5aa",
   "metadata": {},
   "outputs": [
    {
     "data": {
      "text/html": [
       "<div>\n",
       "<style scoped>\n",
       "    .dataframe tbody tr th:only-of-type {\n",
       "        vertical-align: middle;\n",
       "    }\n",
       "\n",
       "    .dataframe tbody tr th {\n",
       "        vertical-align: top;\n",
       "    }\n",
       "\n",
       "    .dataframe thead th {\n",
       "        text-align: right;\n",
       "    }\n",
       "</style>\n",
       "<table border=\"1\" class=\"dataframe\">\n",
       "  <thead>\n",
       "    <tr style=\"text-align: right;\">\n",
       "      <th></th>\n",
       "      <th>Order_ID</th>\n",
       "      <th>Customer_Name</th>\n",
       "      <th>Product_Category</th>\n",
       "      <th>Product_Name</th>\n",
       "      <th>Units_Sold</th>\n",
       "      <th>Unit_Price</th>\n",
       "      <th>Discount_%</th>\n",
       "      <th>Sales_Amount</th>\n",
       "      <th>Order_Date</th>\n",
       "      <th>City</th>\n",
       "      <th>Segment</th>\n",
       "      <th>Profit</th>\n",
       "    </tr>\n",
       "  </thead>\n",
       "  <tbody>\n",
       "    <tr>\n",
       "      <th>0</th>\n",
       "      <td>1000</td>\n",
       "      <td>Brian Thompson</td>\n",
       "      <td>Jeans</td>\n",
       "      <td>Slim Fit Jeans</td>\n",
       "      <td>NaN</td>\n",
       "      <td>842.00</td>\n",
       "      <td>0.60</td>\n",
       "      <td>0.00</td>\n",
       "      <td>2025-02-27</td>\n",
       "      <td>Delhi</td>\n",
       "      <td>B2C</td>\n",
       "      <td>2137.45</td>\n",
       "    </tr>\n",
       "    <tr>\n",
       "      <th>1</th>\n",
       "      <td>1001</td>\n",
       "      <td>Shaun Ross</td>\n",
       "      <td>Jeans</td>\n",
       "      <td>Slim Fit Jeans</td>\n",
       "      <td>1.0</td>\n",
       "      <td>NaN</td>\n",
       "      <td>NaN</td>\n",
       "      <td>0.00</td>\n",
       "      <td>2025-07-15</td>\n",
       "      <td>Ahmedabad</td>\n",
       "      <td>NaN</td>\n",
       "      <td>1588.15</td>\n",
       "    </tr>\n",
       "    <tr>\n",
       "      <th>2</th>\n",
       "      <td>1002</td>\n",
       "      <td>Sarah Snyder</td>\n",
       "      <td>Jackets</td>\n",
       "      <td>Puffer Coat</td>\n",
       "      <td>1.0</td>\n",
       "      <td>637.82</td>\n",
       "      <td>NaN</td>\n",
       "      <td>0.00</td>\n",
       "      <td>02-01-2025</td>\n",
       "      <td>Mumbai</td>\n",
       "      <td>B2B</td>\n",
       "      <td>-158.03</td>\n",
       "    </tr>\n",
       "    <tr>\n",
       "      <th>3</th>\n",
       "      <td>1003</td>\n",
       "      <td>Jay Briggs</td>\n",
       "      <td>Shoes</td>\n",
       "      <td>Loafers</td>\n",
       "      <td>2.0</td>\n",
       "      <td>2962.27</td>\n",
       "      <td>NaN</td>\n",
       "      <td>0.00</td>\n",
       "      <td>18-06-2025</td>\n",
       "      <td>bengaluru</td>\n",
       "      <td>B2B</td>\n",
       "      <td>2296.50</td>\n",
       "    </tr>\n",
       "    <tr>\n",
       "      <th>4</th>\n",
       "      <td>1004</td>\n",
       "      <td>Maria Blake</td>\n",
       "      <td>Accessories</td>\n",
       "      <td>Belts</td>\n",
       "      <td>1.0</td>\n",
       "      <td>2881.07</td>\n",
       "      <td>0.27</td>\n",
       "      <td>2103.18</td>\n",
       "      <td>NaN</td>\n",
       "      <td>hyderbad</td>\n",
       "      <td>NaN</td>\n",
       "      <td>63.66</td>\n",
       "    </tr>\n",
       "  </tbody>\n",
       "</table>\n",
       "</div>"
      ],
      "text/plain": [
       "   Order_ID   Customer_Name Product_Category    Product_Name  Units_Sold  \\\n",
       "0      1000  Brian Thompson            Jeans  Slim Fit Jeans         NaN   \n",
       "1      1001      Shaun Ross            Jeans  Slim Fit Jeans         1.0   \n",
       "2      1002    Sarah Snyder          Jackets     Puffer Coat         1.0   \n",
       "3      1003      Jay Briggs            Shoes         Loafers         2.0   \n",
       "4      1004     Maria Blake      Accessories           Belts         1.0   \n",
       "\n",
       "   Unit_Price  Discount_%  Sales_Amount  Order_Date       City Segment  \\\n",
       "0      842.00        0.60          0.00  2025-02-27      Delhi     B2C   \n",
       "1         NaN         NaN          0.00  2025-07-15  Ahmedabad     NaN   \n",
       "2      637.82         NaN          0.00  02-01-2025     Mumbai     B2B   \n",
       "3     2962.27         NaN          0.00  18-06-2025  bengaluru     B2B   \n",
       "4     2881.07        0.27       2103.18         NaN   hyderbad     NaN   \n",
       "\n",
       "    Profit  \n",
       "0  2137.45  \n",
       "1  1588.15  \n",
       "2  -158.03  \n",
       "3  2296.50  \n",
       "4    63.66  "
      ]
     },
     "execution_count": 7,
     "metadata": {},
     "output_type": "execute_result"
    }
   ],
   "source": [
    "df.head()"
   ]
  },
  {
   "cell_type": "code",
   "execution_count": 9,
   "id": "e30771a7-bb65-4627-b31e-fa3436667625",
   "metadata": {},
   "outputs": [
    {
     "data": {
      "text/plain": [
       "0       False\n",
       "1       False\n",
       "2       False\n",
       "3       False\n",
       "4       False\n",
       "        ...  \n",
       "2495    False\n",
       "2496    False\n",
       "2497    False\n",
       "2498    False\n",
       "2499    False\n",
       "Length: 2500, dtype: bool"
      ]
     },
     "execution_count": 9,
     "metadata": {},
     "output_type": "execute_result"
    }
   ],
   "source": [
    "df.duplicated(subset=['Order_ID'])"
   ]
  },
  {
   "cell_type": "code",
   "execution_count": 11,
   "id": "d9dc7357-46e8-4139-85ac-bab58ddf21af",
   "metadata": {},
   "outputs": [
    {
     "data": {
      "text/plain": [
       "array([1000, 1001, 1002, ..., 3497, 3498, 3499], dtype=int64)"
      ]
     },
     "execution_count": 11,
     "metadata": {},
     "output_type": "execute_result"
    }
   ],
   "source": [
    "df['Order_ID'].unique()"
   ]
  },
  {
   "cell_type": "code",
   "execution_count": 13,
   "id": "36542f62-8018-4850-8154-0c6cda938a2b",
   "metadata": {},
   "outputs": [
    {
     "data": {
      "text/plain": [
       "array(['2025-02-27', '2025-07-15', '02-01-2025', ..., '2024-08-15',\n",
       "       '2023-12-31', '25-11-2024'], dtype=object)"
      ]
     },
     "execution_count": 13,
     "metadata": {},
     "output_type": "execute_result"
    }
   ],
   "source": [
    "df['Order_Date'].unique()"
   ]
  },
  {
   "cell_type": "code",
   "execution_count": 15,
   "id": "f5d799ec-3585-480f-b15e-6aa2126d0a40",
   "metadata": {},
   "outputs": [
    {
     "name": "stdout",
     "output_type": "stream",
     "text": [
      "object\n"
     ]
    }
   ],
   "source": [
    "print(df['Order_Date'].dtype)"
   ]
  },
  {
   "cell_type": "code",
   "execution_count": 17,
   "id": "8cb96681-5628-4048-84f1-da2d1091e2fb",
   "metadata": {},
   "outputs": [
    {
     "name": "stderr",
     "output_type": "stream",
     "text": [
      "C:\\Users\\abs\\AppData\\Local\\Temp\\ipykernel_10864\\3687525960.py:1: UserWarning: Parsing dates in %Y-%m-%d format when dayfirst=True was specified. Pass `dayfirst=False` or specify a format to silence this warning.\n",
      "  df['Order_Date'] = pd.to_datetime(df['Order_Date'], dayfirst=True, errors='coerce')\n"
     ]
    }
   ],
   "source": [
    "df['Order_Date'] = pd.to_datetime(df['Order_Date'], dayfirst=True, errors='coerce')"
   ]
  },
  {
   "cell_type": "code",
   "execution_count": 19,
   "id": "20081ce2-f8d7-4ac8-a260-2248ae345a17",
   "metadata": {},
   "outputs": [
    {
     "data": {
      "text/plain": [
       "0      2025-02-27\n",
       "1      2025-07-15\n",
       "2             NaT\n",
       "3             NaT\n",
       "4             NaT\n",
       "          ...    \n",
       "2495          NaT\n",
       "2496   2024-03-10\n",
       "2497          NaT\n",
       "2498          NaT\n",
       "2499          NaT\n",
       "Name: Order_Date, Length: 2500, dtype: datetime64[ns]"
      ]
     },
     "execution_count": 19,
     "metadata": {},
     "output_type": "execute_result"
    }
   ],
   "source": [
    "df['Order_Date']"
   ]
  },
  {
   "cell_type": "code",
   "execution_count": 21,
   "id": "0d04a356-117f-4798-8500-a120aaa3c8d4",
   "metadata": {},
   "outputs": [
    {
     "data": {
      "text/plain": [
       "<DatetimeArray>\n",
       "['2025-02-27 00:00:00', '2025-07-15 00:00:00',                 'NaT',\n",
       " '2023-12-05 00:00:00', '2024-04-02 00:00:00', '2025-07-20 00:00:00',\n",
       " '2024-04-13 00:00:00', '2024-05-05 00:00:00', '2024-12-21 00:00:00',\n",
       " '2023-09-03 00:00:00',\n",
       " ...\n",
       " '2025-04-17 00:00:00', '2025-04-24 00:00:00', '2024-07-20 00:00:00',\n",
       " '2024-06-10 00:00:00', '2024-02-19 00:00:00', '2023-08-07 00:00:00',\n",
       " '2025-06-05 00:00:00', '2024-08-31 00:00:00', '2024-08-15 00:00:00',\n",
       " '2023-12-31 00:00:00']\n",
       "Length: 414, dtype: datetime64[ns]"
      ]
     },
     "execution_count": 21,
     "metadata": {},
     "output_type": "execute_result"
    }
   ],
   "source": [
    "df['Order_Date'].unique()"
   ]
  },
  {
   "cell_type": "code",
   "execution_count": 27,
   "id": "2b342303-b101-4459-a8ae-f56f06b13f27",
   "metadata": {},
   "outputs": [
    {
     "ename": "TypeError",
     "evalue": "Series.count() takes 1 positional argument but 2 were given",
     "output_type": "error",
     "traceback": [
      "\u001b[1;31m---------------------------------------------------------------------------\u001b[0m",
      "\u001b[1;31mTypeError\u001b[0m                                 Traceback (most recent call last)",
      "Cell \u001b[1;32mIn[27], line 1\u001b[0m\n\u001b[1;32m----> 1\u001b[0m df[\u001b[38;5;124m'\u001b[39m\u001b[38;5;124mOrder_Date\u001b[39m\u001b[38;5;124m'\u001b[39m]\u001b[38;5;241m.\u001b[39mcount(\u001b[38;5;124m'\u001b[39m\u001b[38;5;124mNaT\u001b[39m\u001b[38;5;124m'\u001b[39m)\n",
      "\u001b[1;31mTypeError\u001b[0m: Series.count() takes 1 positional argument but 2 were given"
     ]
    }
   ],
   "source": [
    "df['Order_Date'].count('NaT')"
   ]
  },
  {
   "cell_type": "code",
   "execution_count": 77,
   "id": "8f7046d9-8dba-4d5e-94cf-3e2542c3a32d",
   "metadata": {},
   "outputs": [
    {
     "name": "stdout",
     "output_type": "stream",
     "text": [
      "<DatetimeArray>\n",
      "['NaT']\n",
      "Length: 1, dtype: datetime64[ns]\n"
     ]
    }
   ],
   "source": [
    "print(df['Order_Date'].unique())"
   ]
  },
  {
   "cell_type": "code",
   "execution_count": 69,
   "id": "25dea525-da61-488c-8675-260c15b254da",
   "metadata": {},
   "outputs": [
    {
     "name": "stderr",
     "output_type": "stream",
     "text": [
      "C:\\Users\\abs\\AppData\\Local\\Temp\\ipykernel_10156\\819463925.py:2: UserWarning: Parsing dates in %Y-%m-%d format when dayfirst=True was specified. Pass `dayfirst=False` or specify a format to silence this warning.\n",
      "  pd.to_datetime(df['Order_Date'], dayfirst=True, errors='coerce')\n"
     ]
    },
    {
     "ename": "AttributeError",
     "evalue": "Can only use .dt accessor with datetimelike values",
     "output_type": "error",
     "traceback": [
      "\u001b[1;31m---------------------------------------------------------------------------\u001b[0m",
      "\u001b[1;31mAttributeError\u001b[0m                            Traceback (most recent call last)",
      "Cell \u001b[1;32mIn[69], line 5\u001b[0m\n\u001b[0;32m      2\u001b[0m pd\u001b[38;5;241m.\u001b[39mto_datetime(df[\u001b[38;5;124m'\u001b[39m\u001b[38;5;124mOrder_Date\u001b[39m\u001b[38;5;124m'\u001b[39m], dayfirst\u001b[38;5;241m=\u001b[39m\u001b[38;5;28;01mTrue\u001b[39;00m, errors\u001b[38;5;241m=\u001b[39m\u001b[38;5;124m'\u001b[39m\u001b[38;5;124mcoerce\u001b[39m\u001b[38;5;124m'\u001b[39m)\n\u001b[0;32m      4\u001b[0m \u001b[38;5;66;03m# Step 2: Format as string in 'DD/MM/YYYY'\u001b[39;00m\n\u001b[1;32m----> 5\u001b[0m df[\u001b[38;5;124m'\u001b[39m\u001b[38;5;124mOrder_Date\u001b[39m\u001b[38;5;124m'\u001b[39m]\u001b[38;5;241m.\u001b[39mdt\u001b[38;5;241m.\u001b[39mstrftime(\u001b[38;5;124m'\u001b[39m\u001b[38;5;132;01m%d\u001b[39;00m\u001b[38;5;124m/\u001b[39m\u001b[38;5;124m%\u001b[39m\u001b[38;5;124mm/\u001b[39m\u001b[38;5;124m%\u001b[39m\u001b[38;5;124mY\u001b[39m\u001b[38;5;124m'\u001b[39m)\n\u001b[0;32m      7\u001b[0m \u001b[38;5;28mprint\u001b[39m(df[\u001b[38;5;124m'\u001b[39m\u001b[38;5;124mOrder_Date\u001b[39m\u001b[38;5;124m'\u001b[39m])\n",
      "File \u001b[1;32m~\\anaconda3\\Lib\\site-packages\\pandas\\core\\generic.py:6299\u001b[0m, in \u001b[0;36mNDFrame.__getattr__\u001b[1;34m(self, name)\u001b[0m\n\u001b[0;32m   6292\u001b[0m \u001b[38;5;28;01mif\u001b[39;00m (\n\u001b[0;32m   6293\u001b[0m     name \u001b[38;5;129;01mnot\u001b[39;00m \u001b[38;5;129;01min\u001b[39;00m \u001b[38;5;28mself\u001b[39m\u001b[38;5;241m.\u001b[39m_internal_names_set\n\u001b[0;32m   6294\u001b[0m     \u001b[38;5;129;01mand\u001b[39;00m name \u001b[38;5;129;01mnot\u001b[39;00m \u001b[38;5;129;01min\u001b[39;00m \u001b[38;5;28mself\u001b[39m\u001b[38;5;241m.\u001b[39m_metadata\n\u001b[0;32m   6295\u001b[0m     \u001b[38;5;129;01mand\u001b[39;00m name \u001b[38;5;129;01mnot\u001b[39;00m \u001b[38;5;129;01min\u001b[39;00m \u001b[38;5;28mself\u001b[39m\u001b[38;5;241m.\u001b[39m_accessors\n\u001b[0;32m   6296\u001b[0m     \u001b[38;5;129;01mand\u001b[39;00m \u001b[38;5;28mself\u001b[39m\u001b[38;5;241m.\u001b[39m_info_axis\u001b[38;5;241m.\u001b[39m_can_hold_identifiers_and_holds_name(name)\n\u001b[0;32m   6297\u001b[0m ):\n\u001b[0;32m   6298\u001b[0m     \u001b[38;5;28;01mreturn\u001b[39;00m \u001b[38;5;28mself\u001b[39m[name]\n\u001b[1;32m-> 6299\u001b[0m \u001b[38;5;28;01mreturn\u001b[39;00m \u001b[38;5;28mobject\u001b[39m\u001b[38;5;241m.\u001b[39m\u001b[38;5;21m__getattribute__\u001b[39m(\u001b[38;5;28mself\u001b[39m, name)\n",
      "File \u001b[1;32m~\\anaconda3\\Lib\\site-packages\\pandas\\core\\accessor.py:224\u001b[0m, in \u001b[0;36mCachedAccessor.__get__\u001b[1;34m(self, obj, cls)\u001b[0m\n\u001b[0;32m    221\u001b[0m \u001b[38;5;28;01mif\u001b[39;00m obj \u001b[38;5;129;01mis\u001b[39;00m \u001b[38;5;28;01mNone\u001b[39;00m:\n\u001b[0;32m    222\u001b[0m     \u001b[38;5;66;03m# we're accessing the attribute of the class, i.e., Dataset.geo\u001b[39;00m\n\u001b[0;32m    223\u001b[0m     \u001b[38;5;28;01mreturn\u001b[39;00m \u001b[38;5;28mself\u001b[39m\u001b[38;5;241m.\u001b[39m_accessor\n\u001b[1;32m--> 224\u001b[0m accessor_obj \u001b[38;5;241m=\u001b[39m \u001b[38;5;28mself\u001b[39m\u001b[38;5;241m.\u001b[39m_accessor(obj)\n\u001b[0;32m    225\u001b[0m \u001b[38;5;66;03m# Replace the property with the accessor object. Inspired by:\u001b[39;00m\n\u001b[0;32m    226\u001b[0m \u001b[38;5;66;03m# https://www.pydanny.com/cached-property.html\u001b[39;00m\n\u001b[0;32m    227\u001b[0m \u001b[38;5;66;03m# We need to use object.__setattr__ because we overwrite __setattr__ on\u001b[39;00m\n\u001b[0;32m    228\u001b[0m \u001b[38;5;66;03m# NDFrame\u001b[39;00m\n\u001b[0;32m    229\u001b[0m \u001b[38;5;28mobject\u001b[39m\u001b[38;5;241m.\u001b[39m\u001b[38;5;21m__setattr__\u001b[39m(obj, \u001b[38;5;28mself\u001b[39m\u001b[38;5;241m.\u001b[39m_name, accessor_obj)\n",
      "File \u001b[1;32m~\\anaconda3\\Lib\\site-packages\\pandas\\core\\indexes\\accessors.py:643\u001b[0m, in \u001b[0;36mCombinedDatetimelikeProperties.__new__\u001b[1;34m(cls, data)\u001b[0m\n\u001b[0;32m    640\u001b[0m \u001b[38;5;28;01melif\u001b[39;00m \u001b[38;5;28misinstance\u001b[39m(data\u001b[38;5;241m.\u001b[39mdtype, PeriodDtype):\n\u001b[0;32m    641\u001b[0m     \u001b[38;5;28;01mreturn\u001b[39;00m PeriodProperties(data, orig)\n\u001b[1;32m--> 643\u001b[0m \u001b[38;5;28;01mraise\u001b[39;00m \u001b[38;5;167;01mAttributeError\u001b[39;00m(\u001b[38;5;124m\"\u001b[39m\u001b[38;5;124mCan only use .dt accessor with datetimelike values\u001b[39m\u001b[38;5;124m\"\u001b[39m)\n",
      "\u001b[1;31mAttributeError\u001b[0m: Can only use .dt accessor with datetimelike values"
     ]
    }
   ],
   "source": [
    "# Step 1: Convert to datetime\n",
    "pd.to_datetime(df['Order_Date'], dayfirst=True, errors='coerce')\n",
    "\n",
    "# Step 2: Format as string in 'DD/MM/YYYY'\n",
    "df['Order_Date'].dt.strftime('%d/%m/%Y')\n",
    "\n",
    "print(df['Order_Date'])"
   ]
  }
 ],
 "metadata": {
  "kernelspec": {
   "display_name": "Python [conda env:base] *",
   "language": "python",
   "name": "conda-base-py"
  },
  "language_info": {
   "codemirror_mode": {
    "name": "ipython",
    "version": 3
   },
   "file_extension": ".py",
   "mimetype": "text/x-python",
   "name": "python",
   "nbconvert_exporter": "python",
   "pygments_lexer": "ipython3",
   "version": "3.12.7"
  }
 },
 "nbformat": 4,
 "nbformat_minor": 5
}
